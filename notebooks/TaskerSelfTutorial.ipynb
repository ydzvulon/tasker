{
 "cells": [
  {
   "cell_type": "markdown",
   "id": "6cad3dd4",
   "metadata": {},
   "source": [
    "# Tasker Self Tutorial\n"
   ]
  },
  {
   "cell_type": "markdown",
   "id": "3fe4e40e",
   "metadata": {
    "pycharm": {
     "name": "#%% md\n"
    }
   },
   "source": [
    "The cmds attribute should contain the commands of a task\n",
    "\n",
    "```yml\n",
    "tasks: # simple task for example\n",
    "  cmds:\n",
    "    greet:\n",
    "      - echo \"Hello World\"\n",
    "\n",
    "# to run the task:\n",
    "```\n",
    "* any executable called must be available by the OS or in PATH.\n",
    "\n"
   ]
  },
  {
   "cell_type": "markdown",
   "id": "5f1b7478",
   "metadata": {},
   "source": [
    "## To run the task:\n",
    "\n",
    "```python\n",
    "$ task some_task\n",
    "# to run the task\n",
    "```\n",
    "* any executable called must be available by the OS or in PATH.\n",
    "* Optional includes\n",
    "* Includes marked as optional will allow Task to continue execution as normal if the included file is missing"
   ]
  },
  {
   "cell_type": "markdown",
   "id": "90a4b6a0",
   "metadata": {},
   "source": [
    "## Task dependencies\n",
    "* Dependencies run in parallel, so dependencies of a task shouldn’t depend one another. \n",
    "* A task can have only dependencies and no commands to group tasks together.\n",
    "* Deps run automatically before running the parent task.\n",
    "* If you want to call a task declared in the root Taskfile from within an included Taskfile, add a leading : like this: task: :task-name"
   ]
  },
  {
   "cell_type": "markdown",
   "id": "259c9d9e",
   "metadata": {},
   "source": [
    "### Optional includes\n",
    "\n",
    "Includes marked as optional will allow Task to continue execution as normal if the included file is missing"
   ]
  },
  {
   "cell_type": "markdown",
   "id": "8749e14b",
   "metadata": {},
   "source": [
    "## Variables \n"
   ]
  },
  {
   "cell_type": "markdown",
   "id": "8b1d464c",
   "metadata": {},
   "source": [
    "\n",
    "### Variables resoluion\n",
    "\n",
    "When doing interpolation of variables, Task will look for the below. They are listed below in order of importance (e.g. most important first):\n",
    "\n",
    "* Variables declared in the task definition\n",
    "* Variables given while calling a task from another (See Calling another task above)\n",
    "* Global variables (those declared in the vars: option in the Taskfile)\n",
    "* Environment variables"
   ]
  },
  {
   "cell_type": "markdown",
   "id": "4c72875f",
   "metadata": {},
   "source": [
    "#### Local vs. Global variables \n",
    "\n",
    "```yml  \n",
    "# local\n",
    "tasks:\n",
    "  print-var:\n",
    "    cmds:\n",
    "      - echo \"{{.VAR}}\"\n",
    "    vars:\n",
    "      VAR: Hello!\n",
    "```\n",
    "\n",
    "```yml  \n",
    "# global\n",
    "vars:\n",
    "  GREETING: Hello from Taskfile!\n",
    "\n",
    "tasks:\n",
    "  greet:\n",
    "    cmds:\n",
    "      - echo \"{{.GREETING}}\"\n",
    "```\n"
   ]
  },
  {
   "cell_type": "markdown",
   "id": "96cf313f",
   "metadata": {},
   "source": [
    "### Dynamic variables\n",
    "\n",
    "\n"
   ]
  },
  {
   "cell_type": "markdown",
   "id": "e9713537",
   "metadata": {},
   "source": [
    "## Silent mode\n",
    "\n",
    "Silent mode disables echoing of commands before Task runs it. For the following Taskfile\n",
    "\n",
    "There are four ways to enable silent mode:\n",
    "\n",
    "* At command level\n",
    "* At task level \n",
    "* Globally at Taskfile level \n",
    "* Globally with --silent or -s flag\n",
    "\n",
    "If you want to suppress STDOUT instead, just redirect a command to > /dev/null"
   ]
  },
  {
   "cell_type": "markdown",
   "id": "63fb2118",
   "metadata": {},
   "source": [
    "## Dry run mode - Debug\n",
    "\n",
    "Dry run mode (--dry) compiles and steps through each task, printing the commands that would be run without executing them. This is useful for debugging your Taskfiles."
   ]
  },
  {
   "cell_type": "markdown",
   "id": "3f390f10",
   "metadata": {},
   "source": [
    "## Ignore errors\n",
    "\n",
    "You have the option to ignore errors during command execution.\n",
    "\n",
    "Task will abort the execution after running exit 1 because the status code 1 stands for EXIT_FAILURE. However it is possible to continue with execution using ignore_error\n",
    "\n",
    "ignore_error can also be set for a task, which mean errors will be suppressed for all commands. But keep in mind this option won’t propagate to other tasks called either by deps or cmds!"
   ]
  },
  {
   "cell_type": "code",
   "execution_count": null,
   "id": "04d4eaa0",
   "metadata": {},
   "outputs": [],
   "source": []
  }
 ],
 "metadata": {
  "kernelspec": {
   "display_name": "Python 3 (ipykernel)",
   "language": "python",
   "name": "python3"
  },
  "language_info": {
   "codemirror_mode": {
    "name": "ipython",
    "version": 3
   },
   "file_extension": ".py",
   "mimetype": "text/x-python",
   "name": "python",
   "nbconvert_exporter": "python",
   "pygments_lexer": "ipython3",
   "version": "3.7.10"
  }
 },
 "nbformat": 4,
 "nbformat_minor": 5
}