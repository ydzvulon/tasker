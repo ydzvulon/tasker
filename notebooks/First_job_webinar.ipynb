{
 "cells": [
  {
   "cell_type": "markdown",
   "metadata": {
    "collapsed": true,
    "pycharm": {
     "name": "#%% md\n"
    }
   },
   "source": [
    "# Types of questions in interviews:\n",
    "\n",
    "* Knowledge: terms,protocols\n",
    "* Thinkimg\n",
    "* Discussion\n",
    "* planning: architecture, engineering, how a system will look like\n",
    "\n",
    "\n",
    "\n",
    "\n",
    "** maintain a good linkedin profile. show interest and \"live\" the job you want.\n",
    "\n",
    "search for jobs trough aquaintances.\n",
    "\n",
    "link to screenshots of the questions: https://docs.google.com/document/d/1FHFkQMnbtgTd9K9upl8qphzhg3lksTAutMc0V8ghuIw/edit"
   ]
  }
 ],
 "metadata": {
  "kernelspec": {
   "display_name": "Python 3",
   "language": "python",
   "name": "python3"
  },
  "language_info": {
   "codemirror_mode": {
    "name": "ipython",
    "version": 2
   },
   "file_extension": ".py",
   "mimetype": "text/x-python",
   "name": "python",
   "nbconvert_exporter": "python",
   "pygments_lexer": "ipython2",
   "version": "2.7.6"
  }
 },
 "nbformat": 4,
 "nbformat_minor": 0
}